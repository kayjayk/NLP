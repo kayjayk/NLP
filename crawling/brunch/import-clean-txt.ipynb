{
 "cells": [
  {
   "cell_type": "code",
   "execution_count": 56,
   "metadata": {},
   "outputs": [],
   "source": [
    "from urllib.request import urlopen\n",
    "from bs4 import BeautifulSoup\n",
    "import re\n",
    "import pandas as pd\n",
    "import os\n",
    "import codecs"
   ]
  },
  {
   "cell_type": "code",
   "execution_count": 53,
   "metadata": {},
   "outputs": [],
   "source": [
    "# 게시물 1개 수집하는 함수\n",
    "def brunch_to_html(url):\n",
    "    # 웹페이지 수집\n",
    "    soup = BeautifulSoup(urlopen(url), 'html.parser')\n",
    "    articles = soup.findAll(re.compile(r'(p|div|h[1-6]|blockquote)'),     {'class':re.compile(r'(wrap_item item_type_text|wrap_item item_type_bullet|wrap_img_float)')})\n",
    "#     articles[9].text\n",
    "    ## 제목 추출\n",
    "    title = soup.find('h1', {'class':'cover_title'}).text\n",
    "    ## 소제목 추출\n",
    "    sub_title = soup.find('p', {'class':'cover_sub_title'}).text\n",
    "    # 결과물의 body 생성\n",
    "    body = '<h1>' + title + '</h1><br><h3>' + sub_title + '</h3><br>'\n",
    "    # 본문에서 텍스트와 그림 링크를 추출하여 body 생성\n",
    "    for line in articles:\n",
    "        if (line.text != '\\xa0'):# & (line.text != ''):\n",
    "            if str(line).__contains__('div'):\n",
    "                try:\n",
    "                    img_link = re.search(r'http.*', line.find('img')['src']).group(0)\n",
    "                except:\n",
    "                    img_link = ''\n",
    "                try:\n",
    "                    caption = line.find('span', {'class':'text_caption'}).text\n",
    "                except:\n",
    "                    caption = ''\n",
    "                body += '<center><img src=\"' + img_link + '\"><br>' + caption + '</center><br>'\n",
    "            elif str(line).__contains__('h2'):\n",
    "                body += '<br><h2>' + line.text + '</h2><br>'\n",
    "            elif str(line).__contains__('h3'):\n",
    "                body += '<h3>' + line.text + '</h3>'\n",
    "            elif str(line).__contains__('h4'):\n",
    "                body += '<h4>' + line.text + '</h4>'\n",
    "            elif str(line).__contains__('h5'):\n",
    "                body += '<h5>' + line.text + '</h5>'\n",
    "            elif str(line).__contains__('h6'):\n",
    "                body += '<h6>' + line.text + '</h6>'    \n",
    "            elif str(line).__contains__('blockquote'):\n",
    "                if str(line).__contains__('type1'):\n",
    "                    body += '<br><center><h3><font color=\"grey\">' + line.text + '</font></h3></center><br>'\n",
    "                elif str(line).__contains__('type2'):\n",
    "                    line_text = re.sub(r\"(<blockquote[^>]*>|</blockquote>)\", '', str(line)).                    replace('</br>', '<br>')\n",
    "                    body += '<br><div style=\"border-color:#acacac;border-width:0 0 0 2px;border-style:solid;padding:1px 0 0 12px;color:#666;line-height:18pt;text-align:left}\"><font color=\"grey\">' + line_text + '</font></div><br>'\n",
    "                elif str(line).__contains__('type3'):\n",
    "                    line_text = re.sub(r\"(<blockquote[^>]*>|</blockquote>)\", '', str(line)).                    replace('</br>', '<br>')\n",
    "                    body += '<br><div style=\"border:1px solid #d7d7d7;text-align:left;padding:21px 25px 20px;color:#666;line-height:18pt}\"><font color=\"grey\">' + line_text + '</font></div><br>'\n",
    "                else:\n",
    "                    body += '<br><font color=\"grey\">' + line.text + '</font><br>'\n",
    "            elif str(line).__contains__('bullet'):\n",
    "                body += '<li>' + line.text + '</li>'\n",
    "            else:\n",
    "                line_text = re.sub(r'(<blockquote[^>]*>|</blockquote>|<p[^>]*>|</p>)', '', str(line)).                    replace('<br/>', '<br>').replace('<b></b>', '')\n",
    "                if line_text != '<br>':\n",
    "                    #print(line_text)\n",
    "                    body += '<br>' + line_text + '<br>'\n",
    "            \n",
    "    # 전체 html 파일 생성\n",
    "    pad_front = '<html><head><style>' + '</style></head><body>'\n",
    "    pad_rear = '</body></html>'\n",
    "    html = pad_front + body + pad_rear\n",
    "\n",
    "    return(html)"
   ]
  },
  {
   "cell_type": "markdown",
   "metadata": {},
   "source": [
    "### urls in excel"
   ]
  },
  {
   "cell_type": "code",
   "execution_count": 22,
   "metadata": {},
   "outputs": [],
   "source": [
    "excel_path = './url_samples.xlsx'\n",
    "raw = pd.read_excel(excel_path, engine='openpyxl', header=None)"
   ]
  },
  {
   "cell_type": "code",
   "execution_count": 33,
   "metadata": {},
   "outputs": [],
   "source": [
    "df = pd.DataFrame(raw.loc[:, 0].str.split('@', 1).tolist(), columns = ['row', 'id&order'])"
   ]
  },
  {
   "cell_type": "code",
   "execution_count": 36,
   "metadata": {},
   "outputs": [],
   "source": [
    "id_and_order = pd.DataFrame(df['id&order'].str.split('/', 1).tolist(), columns = ['id', 'order'])"
   ]
  },
  {
   "cell_type": "markdown",
   "metadata": {},
   "source": [
    "### import html files using the urls"
   ]
  },
  {
   "cell_type": "code",
   "execution_count": 50,
   "metadata": {},
   "outputs": [],
   "source": [
    "base_url = 'https://brunch.co.kr/'\n",
    "section_name = '휴가'\n",
    "section_dir = os.path.join(os.getcwd(), 'scraped', section_name)"
   ]
  },
  {
   "cell_type": "code",
   "execution_count": 51,
   "metadata": {},
   "outputs": [],
   "source": [
    "if not os.path.exists(section_dir):\n",
    "    os.makedirs(section_dir)"
   ]
  },
  {
   "cell_type": "code",
   "execution_count": 55,
   "metadata": {},
   "outputs": [],
   "source": [
    "for idx, row in id_and_order.iterrows():\n",
    "    user_id = row['id']\n",
    "    page_order = row['order']\n",
    "    url = base_url + '@' + user_id + '/' + page_order\n",
    "    \n",
    "    html = brunch_to_html(url)\n",
    "    \n",
    "    save_path = os.path.join(section_dir, user_id + '-' + page_order + '.html')\n",
    "    \n",
    "    with open(save_path, 'w') as f:\n",
    "        f.write(html)"
   ]
  },
  {
   "cell_type": "markdown",
   "metadata": {},
   "source": [
    "* test"
   ]
  },
  {
   "cell_type": "code",
   "execution_count": 73,
   "metadata": {
    "scrolled": true
   },
   "outputs": [
    {
     "name": "stdout",
     "output_type": "stream",
     "text": [
      "<html><head><style></style></head><body><h1>휴가의 의미</h1><br><h3>올해 첫 휴가를 사용한 후의 기록 </h3><br><h3>들어가며</h3><h4>며칠 전 올해 첫 '휴가'를 사용했습니다. 2021년이 시작되고 절반이 가까워지고 있는 시점에 첫 휴가를 사용했는데요, 오랜만에 휴가를 사용한 만큼 제겐 소중했고 여러 의미가 있었습니다. </h4><h4>저는 특별히 여행을 가거나, 큰 계획이 없어도 가끔씩 휴가를 사용하며 재충전 시간을 가지는 것을 선호하는 편이었어요. 작년까지는 한 달에 한 번은 휴가를 사용하는 것이 제게 큰 행복이었는데요, 올 해는 과거와는 다르게 휴가를 잘 사용하지 못하고 늦게 사용하게 되었습니다. </h4><h4>휴가를 사용 한 뒤 '휴가'에 대해서 제 생각을 정리해보았고, 여러분께 들려드릴까 해요. 읽으시면서 여러분의 휴가는 어떠신지 정리해보시고 저에게도 이야기 들려주세요. </h4><center><img src=\"http://t1.daumcdn.net/brunch/service/user/5sOI/image/XTrqL_UUwHKGmHEAbgn9xoiZ2dY.jpeg\"><br></center><br><h3>1. 업무가 늘었어요(신규 업무 분장)  </h3><h4></h4><h4> 저는 기본적으로 '휴가'와 '일'은 적절하게 균형을 맞추면서 살아가는 것을 선호해요. \"열심히 일한 당신, 떠나라!\"라는 말도 좋아하는 편입니다. </h4><h4> 올해는 과거와는 조금 다른 균형을 맞추며 지내고 있어요. 먼저 작년보다 맡은 업무가 늘어나게 되었고, 업무 중에는 처음 해보게 되는 업무도 있었습니다. 기존에 제가 맡고 있던 MD 업무는 월말, 월초가 마감과 정산으로 바빴고 중순에는 휴가를 쓸 수 있었던 반면에 올해는 MD 업무와 함께 조직의 손익 및 경영관리 업무도 함께 되어 중순에도 자리를 비울 수 없게 되었습니다. 정리하면, 월말과 월초는 원래 바빴고 어쩌다 보니 올해는 중간에도 바쁘게 되었네요. </h4><h4>처음에는 새로운 업무를 진행하다 보니 휴가를 쓸 겨를도 없이 마무리하면 한 달이 지나가 있고, 분기도 지나가버렸습니다. 신규 업무의 경우에는 여러 동료들의 확인과 협의가 중요한 업무이기 때문에 동료들의 스케줄을 고려하게 되었고 휴가 사용은 점점 미뤄졌습니다. 또한 물어보고, 배워야 하는 부분들이 많아 쉽게 '휴가'를 사용하기 어려웠습니다.  </h4><center><img src=\"http://t1.daumcdn.net/brunch/service/user/5sOI/image/0HhOFS9CwlSdc4W6KH4nZHEIhOs.jpeg\"><br></center><br><h4></h4><h3>2. 하다 보니 재미있더라     </h3><h4></h4><h4>2021년 1분기는 신규업무에 정신없이 적응하니 끝나 있었고, 2분기가 되니 업무가 어떻게 진행되고 어떤 일들을 하면 되는지 스스로 정리가 되기 시작했어요. 시간이 지날수록, 업무의 경험이 조금씩 쌓일수록 제가 보이는 것들이 달라지더군요, 정확히 이야기하면 이해의 폭이 넓어짐을 체감하고 있었어요. 1분기에는 매뉴얼을 바탕으로 업무를 진행했다면 2분기부터는 왜 그렇게 진행을 해야만 했는지 조금씩 보이고 있었습니다.</h4><h4>아는 게, 보이는 게 늘어날수록 업무가 재미있어졌습니다. 업무를 할 때는 숫자가 안 맞을 때도 있고 비용을 잘못 계산해서 실수를 할 때도 많았지만 업무를 할수록 배우는 게 생기고 성장한다는 느낌이 들었습니다. 그리고 더 잘하고 싶은 마음에 시간을 더 투자해야겠다는 생각을 가지게 되었고 그렇게 저의 첫 휴가는 계속 미뤄졌습니다. 또한 배울 수 있을 때 배워놔야 나중에 덜 힘들겠다는 생각도 자리 잡고 있었습니다.  </h4><h4></h4><h3>3. 어느 순간 필요하더라</h3><h4>휴가의 사용을 미루다 보니 어느덧 5월이 지나고 있었습니다. 5월도 손익 업무를 하며 야근을 하고 있는데 갑자기 \"쉬고 싶다\"라는 생각이 들었습니다. '휴가'를 사용해서 무엇을 하고 싶다는 생각보다는 그냥 쉬고 싶은 마음이 생겼습니다. 곧바로, 업무의 마감일자와 공휴일을 동시에 체크하며 쉴 수 있는 날을 고민해보니 감사하게도 5월의 휴일과 함께 휴가를 사용할 수 있는 날이 눈에 들어왔어요. 그렇게 저는 올해 첫 휴가를 5/17에 사용하게 되었습니다.</h4><h4></h4><h3>4. 쉬니까 좋더라 </h3><h4></h4><h4>휴가를 사용하기 하루 전부터 기분이 새롭더군요. 내일 아침에 출근 준비를 안 해도 되는 기쁨과 함께 아무것도 안 해도 된다는 사실이 제겐 큰 행복이었습니다. 또한 이번 휴가에는 감사하게도 소중한 사람과 좋은 곳에서 함께 시간을 보낼 수 있었습니다. 함께 휴식을 한다는 것이 큰 위로였고 회복이었습니다. 무엇보다도 일을 잠깐 내려놓고 먹는 것에 집중하고, 쉬는 것에 집중하고, 이야기하는 것에 집중하는 등 우리의 일상적인 것에 조금 더 집중할 수 있는 시간들이 제겐 큰 쉼이었습니다. </h4><center><img src=\"http://t1.daumcdn.net/brunch/service/user/5sOI/image/V4nfccjHXsrq5RonwUQPPLMbC6s.jpeg\"><br></center><br><h4></h4><h3>5. 쉬어가며 일하자</h3><h4></h4><h4>단 하루의 휴가였지만 업무에 복귀하니 조금 다른 기분이 느껴지더군요. 먼저 체력적으로 덜 피곤했고 쉬었다는 사실이 정서적으로도 여유가 생긴 기분이었습니다. 물론 제가 쉬는 날에도 당연히 회사는 정상적으로 운영되고 저의 업무는 쌓여 있었지만 쉬고 왔으니 하나씩 처리하면 되겠다는 생각이 들었습니다. 그리고 감사하게도 며칠 뒤 공휴일이 기다리고 있다는 사실도 제겐 큰 동기부여였습니다.</h4><h4>이번 휴가를 통해 저는 '쉬어감'에 대한 중요성을 깨달았습니다. 따라서 중간중간에 휴가를 사용해서 올 한 해를 잘 만들어가고 저의 신체적, 정신적 건강도 좋은 상태로 유지하며 일을 하고자 합니다. </h4><h4></h4><h3>마치며   </h3><h4></h4><h4>여러분은 휴가를 어떻게 활용하고 계신가요? 어떤 분은 휴가를 아껴 연차수당을 받고 그걸로 또 다른 계획을 준비하신 분이 있으실 것 같고요. 또 다른 분은 휴가를 쓰시고 싶음에도 바빠서 쓸 수 없는 분도 계실 것 같네요. 이 외에도 휴가는 각자에게 다양한 의미를 지닐 것이라고 생각됩니다.</h4><h4>저에게 '휴가'는 쉬어감이고, 일을 하면서 중간중간에 저의 컨디션을 지켜줄 수 있는 것입니다. 중요한 것이기도 하지만 상황에 따라 마음대로 사용할 수 없는 것이기도 합니다. </h4><h4>그럼에도 저에게 주어진 '휴가'의 소중함을 잊지 않고 슬기롭게, 지혜롭게 사용해보고자 합니다. </h4><h4></h4><h4>여러분은 휴가를 어떻게 사용하고 계신가요?, 여러분과 여러분의 휴가는 모두 안녕하신가요? </h4><h4></h4><h4>오늘은 이만 글을 마치겠습니다.   </h4><h4></h4><h4></h4><h4></h4></body></html>\n"
     ]
    }
   ],
   "source": [
    "test=codecs.open('./scraped/휴가/7phs-11.html', 'r')\n",
    "tmp = test.read()\n",
    "print(tmp)"
   ]
  },
  {
   "cell_type": "markdown",
   "metadata": {},
   "source": [
    "### cleaning (remove html tags)"
   ]
  },
  {
   "cell_type": "code",
   "execution_count": 67,
   "metadata": {},
   "outputs": [],
   "source": [
    "def remove_tag(content):\n",
    "   cleanr =re.compile('<.*?>')\n",
    "   cleantext = re.sub(cleanr, '', content)\n",
    "   return cleantext"
   ]
  },
  {
   "cell_type": "code",
   "execution_count": 89,
   "metadata": {},
   "outputs": [],
   "source": [
    "save_path = './scraped/휴가'"
   ]
  },
  {
   "cell_type": "code",
   "execution_count": 94,
   "metadata": {},
   "outputs": [],
   "source": [
    "for filename in os.listdir(save_path):\n",
    "    if filename.endswith(\".html\"): \n",
    "        f = codecs.open(os.path.join(save_path, filename), 'r')\n",
    "        raw_html = f.read()\n",
    "        f.close()\n",
    "        \n",
    "        clean_html = remove_tag(raw_html)\n",
    "        with open(os.path.join(save_path, filename)[:-4] + \"txt\", \"w\") as text_file:\n",
    "            text_file.write(clean_html)\n",
    "    else:\n",
    "        continue"
   ]
  },
  {
   "cell_type": "markdown",
   "metadata": {},
   "source": [
    "* test"
   ]
  },
  {
   "cell_type": "code",
   "execution_count": 75,
   "metadata": {},
   "outputs": [
    {
     "name": "stdout",
     "output_type": "stream",
     "text": [
      "휴가의 의미올해 첫 휴가를 사용한 후의 기록 들어가며며칠 전 올해 첫 '휴가'를 사용했습니다. 2021년이 시작되고 절반이 가까워지고 있는 시점에 첫 휴가를 사용했는데요, 오랜만에 휴가를 사용한 만큼 제겐 소중했고 여러 의미가 있었습니다. 저는 특별히 여행을 가거나, 큰 계획이 없어도 가끔씩 휴가를 사용하며 재충전 시간을 가지는 것을 선호하는 편이었어요. 작년까지는 한 달에 한 번은 휴가를 사용하는 것이 제게 큰 행복이었는데요, 올 해는 과거와는 다르게 휴가를 잘 사용하지 못하고 늦게 사용하게 되었습니다. 휴가를 사용 한 뒤 '휴가'에 대해서 제 생각을 정리해보았고, 여러분께 들려드릴까 해요. 읽으시면서 여러분의 휴가는 어떠신지 정리해보시고 저에게도 이야기 들려주세요. 1. 업무가 늘었어요(신규 업무 분장)   저는 기본적으로 '휴가'와 '일'은 적절하게 균형을 맞추면서 살아가는 것을 선호해요. \"열심히 일한 당신, 떠나라!\"라는 말도 좋아하는 편입니다.  올해는 과거와는 조금 다른 균형을 맞추며 지내고 있어요. 먼저 작년보다 맡은 업무가 늘어나게 되었고, 업무 중에는 처음 해보게 되는 업무도 있었습니다. 기존에 제가 맡고 있던 MD 업무는 월말, 월초가 마감과 정산으로 바빴고 중순에는 휴가를 쓸 수 있었던 반면에 올해는 MD 업무와 함께 조직의 손익 및 경영관리 업무도 함께 되어 중순에도 자리를 비울 수 없게 되었습니다. 정리하면, 월말과 월초는 원래 바빴고 어쩌다 보니 올해는 중간에도 바쁘게 되었네요. 처음에는 새로운 업무를 진행하다 보니 휴가를 쓸 겨를도 없이 마무리하면 한 달이 지나가 있고, 분기도 지나가버렸습니다. 신규 업무의 경우에는 여러 동료들의 확인과 협의가 중요한 업무이기 때문에 동료들의 스케줄을 고려하게 되었고 휴가 사용은 점점 미뤄졌습니다. 또한 물어보고, 배워야 하는 부분들이 많아 쉽게 '휴가'를 사용하기 어려웠습니다.  2. 하다 보니 재미있더라     2021년 1분기는 신규업무에 정신없이 적응하니 끝나 있었고, 2분기가 되니 업무가 어떻게 진행되고 어떤 일들을 하면 되는지 스스로 정리가 되기 시작했어요. 시간이 지날수록, 업무의 경험이 조금씩 쌓일수록 제가 보이는 것들이 달라지더군요, 정확히 이야기하면 이해의 폭이 넓어짐을 체감하고 있었어요. 1분기에는 매뉴얼을 바탕으로 업무를 진행했다면 2분기부터는 왜 그렇게 진행을 해야만 했는지 조금씩 보이고 있었습니다.아는 게, 보이는 게 늘어날수록 업무가 재미있어졌습니다. 업무를 할 때는 숫자가 안 맞을 때도 있고 비용을 잘못 계산해서 실수를 할 때도 많았지만 업무를 할수록 배우는 게 생기고 성장한다는 느낌이 들었습니다. 그리고 더 잘하고 싶은 마음에 시간을 더 투자해야겠다는 생각을 가지게 되었고 그렇게 저의 첫 휴가는 계속 미뤄졌습니다. 또한 배울 수 있을 때 배워놔야 나중에 덜 힘들겠다는 생각도 자리 잡고 있었습니다.  3. 어느 순간 필요하더라휴가의 사용을 미루다 보니 어느덧 5월이 지나고 있었습니다. 5월도 손익 업무를 하며 야근을 하고 있는데 갑자기 \"쉬고 싶다\"라는 생각이 들었습니다. '휴가'를 사용해서 무엇을 하고 싶다는 생각보다는 그냥 쉬고 싶은 마음이 생겼습니다. 곧바로, 업무의 마감일자와 공휴일을 동시에 체크하며 쉴 수 있는 날을 고민해보니 감사하게도 5월의 휴일과 함께 휴가를 사용할 수 있는 날이 눈에 들어왔어요. 그렇게 저는 올해 첫 휴가를 5/17에 사용하게 되었습니다.4. 쉬니까 좋더라 휴가를 사용하기 하루 전부터 기분이 새롭더군요. 내일 아침에 출근 준비를 안 해도 되는 기쁨과 함께 아무것도 안 해도 된다는 사실이 제겐 큰 행복이었습니다. 또한 이번 휴가에는 감사하게도 소중한 사람과 좋은 곳에서 함께 시간을 보낼 수 있었습니다. 함께 휴식을 한다는 것이 큰 위로였고 회복이었습니다. 무엇보다도 일을 잠깐 내려놓고 먹는 것에 집중하고, 쉬는 것에 집중하고, 이야기하는 것에 집중하는 등 우리의 일상적인 것에 조금 더 집중할 수 있는 시간들이 제겐 큰 쉼이었습니다. 5. 쉬어가며 일하자단 하루의 휴가였지만 업무에 복귀하니 조금 다른 기분이 느껴지더군요. 먼저 체력적으로 덜 피곤했고 쉬었다는 사실이 정서적으로도 여유가 생긴 기분이었습니다. 물론 제가 쉬는 날에도 당연히 회사는 정상적으로 운영되고 저의 업무는 쌓여 있었지만 쉬고 왔으니 하나씩 처리하면 되겠다는 생각이 들었습니다. 그리고 감사하게도 며칠 뒤 공휴일이 기다리고 있다는 사실도 제겐 큰 동기부여였습니다.이번 휴가를 통해 저는 '쉬어감'에 대한 중요성을 깨달았습니다. 따라서 중간중간에 휴가를 사용해서 올 한 해를 잘 만들어가고 저의 신체적, 정신적 건강도 좋은 상태로 유지하며 일을 하고자 합니다. 마치며   여러분은 휴가를 어떻게 활용하고 계신가요? 어떤 분은 휴가를 아껴 연차수당을 받고 그걸로 또 다른 계획을 준비하신 분이 있으실 것 같고요. 또 다른 분은 휴가를 쓰시고 싶음에도 바빠서 쓸 수 없는 분도 계실 것 같네요. 이 외에도 휴가는 각자에게 다양한 의미를 지닐 것이라고 생각됩니다.저에게 '휴가'는 쉬어감이고, 일을 하면서 중간중간에 저의 컨디션을 지켜줄 수 있는 것입니다. 중요한 것이기도 하지만 상황에 따라 마음대로 사용할 수 없는 것이기도 합니다. 그럼에도 저에게 주어진 '휴가'의 소중함을 잊지 않고 슬기롭게, 지혜롭게 사용해보고자 합니다. 여러분은 휴가를 어떻게 사용하고 계신가요?, 여러분과 여러분의 휴가는 모두 안녕하신가요? 오늘은 이만 글을 마치겠습니다.   \n"
     ]
    }
   ],
   "source": [
    "print(remove_tag(tmp))"
   ]
  }
 ],
 "metadata": {
  "kernelspec": {
   "display_name": "Python 3",
   "language": "python",
   "name": "python3"
  },
  "language_info": {
   "codemirror_mode": {
    "name": "ipython",
    "version": 3
   },
   "file_extension": ".py",
   "mimetype": "text/x-python",
   "name": "python",
   "nbconvert_exporter": "python",
   "pygments_lexer": "ipython3",
   "version": "3.6.9"
  }
 },
 "nbformat": 4,
 "nbformat_minor": 4
}

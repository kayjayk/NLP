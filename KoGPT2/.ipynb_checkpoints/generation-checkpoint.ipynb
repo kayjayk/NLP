{
 "cells": [
  {
   "cell_type": "code",
   "execution_count": 2,
   "metadata": {},
   "outputs": [],
   "source": [
    "from transformers import GPT2LMHeadModel, PreTrainedTokenizerFast\n",
    "\n",
    "model = GPT2LMHeadModel.from_pretrained(\"taeminlee/kogpt2\")\n",
    "tokenizer = PreTrainedTokenizerFast.from_pretrained(\"taeminlee/kogpt2\")\n",
    "\n",
    "# input_ids = tokenizer.encode(\"안녕\", add_special_tokens=False, return_tensors=\"pt\")\n",
    "# output_sequences = model.generate(input_ids=input_ids, do_sample=True, max_length=100, num_return_sequences=3)\n",
    "# for generated_sequence in output_sequences:\n",
    "#     generated_sequence = generated_sequence.tolist()\n",
    "#     print(\"GENERATED SEQUENCE : {0}\".format(tokenizer.decode(generated_sequence, clean_up_tokenization_spaces=True)))"
   ]
  },
  {
   "cell_type": "code",
   "execution_count": 15,
   "metadata": {},
   "outputs": [
    {
     "name": "stderr",
     "output_type": "stream",
     "text": [
      "Setting `pad_token_id` to `eos_token_id`:50256 for open-end generation.\n"
     ]
    },
    {
     "name": "stdout",
     "output_type": "stream",
     "text": [
      "GENERATED SEQUENCE : 우리가 잘 알고 있는 거 같다\"며 \"다른 건 몰라도 내 친구라고 하니 편하게 와 주셨다\"고 말했다.</s><s> 이어 “이는 단지 한 가지 이유로 특정 후보들에 대해 지지할 수 밖에 없었던 국민들에게 (다른 후보의 당선이) 있을 수가\n",
      "GENERATED SEQUENCE : 우리가 잘 알고 있는 부분은 다 얘기했고.</s><s> 또, 중국인들이 소비의 대부분을 차지하는 식품 및 생활용품, 화장품 등 소비재 수출 확대에도 노력을 기울이고 있다.</s><s> 이 같은 무역흑자 추세는 오는 2026년까지 지속되며 중국 내 소비경기\n",
      "GENERATED SEQUENCE : 우리가 잘 알고 있는 사람인지 궁금하다.</s><s> 그는 “그게 어떤 것인지 알아야 할 것”이라며 “우리가 어떻게 해야 하는지 알아야 한다.</s><s> 그게 정답이 아닌가 싶다.</s><s> 어떤 방법으로 이 문제를 해결할 것인지 잘 결정해야 한다”\n"
     ]
    }
   ],
   "source": [
    "input_str = \"우리가 잘 알고 있는\"\n",
    "input_ids = tokenizer.encode(input_str, add_special_tokens=False, return_tensors=\"pt\")\n",
    "output_sequences = model.generate(input_ids=input_ids, do_sample=True, max_length=50, num_return_sequences=3)\n",
    "for generated_sequence in output_sequences:\n",
    "    generated_sequence = generated_sequence.tolist()\n",
    "    print(\"GENERATED SEQUENCE : {0}\".format(tokenizer.decode(generated_sequence, clean_up_tokenization_spaces=True)))"
   ]
  },
  {
   "cell_type": "code",
   "execution_count": null,
   "metadata": {},
   "outputs": [],
   "source": []
  },
  {
   "cell_type": "code",
   "execution_count": null,
   "metadata": {},
   "outputs": [],
   "source": []
  },
  {
   "cell_type": "code",
   "execution_count": null,
   "metadata": {},
   "outputs": [],
   "source": []
  },
  {
   "cell_type": "code",
   "execution_count": null,
   "metadata": {},
   "outputs": [],
   "source": []
  }
 ],
 "metadata": {
  "kernelspec": {
   "display_name": "Python 3",
   "language": "python",
   "name": "python3"
  },
  "language_info": {
   "codemirror_mode": {
    "name": "ipython",
    "version": 3
   },
   "file_extension": ".py",
   "mimetype": "text/x-python",
   "name": "python",
   "nbconvert_exporter": "python",
   "pygments_lexer": "ipython3",
   "version": "3.6.9"
  }
 },
 "nbformat": 4,
 "nbformat_minor": 4
}

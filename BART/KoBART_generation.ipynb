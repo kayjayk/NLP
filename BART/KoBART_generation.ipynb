{
 "cells": [
  {
   "cell_type": "code",
   "execution_count": 28,
   "metadata": {},
   "outputs": [],
   "source": [
    "from kobart_transformers import get_kobart_for_conditional_generation, get_kobart_tokenizer"
   ]
  },
  {
   "cell_type": "code",
   "execution_count": 29,
   "metadata": {},
   "outputs": [],
   "source": [
    "model = get_kobart_for_conditional_generation()\n",
    "tokenizer = get_kobart_tokenizer()"
   ]
  },
  {
   "cell_type": "code",
   "execution_count": 30,
   "metadata": {},
   "outputs": [],
   "source": [
    "input_ids = tokenizer.encode(\"안녕\", \n",
    "                             add_special_tokens=False, \n",
    "                             return_tensors=\"pt\"\n",
    "                            )"
   ]
  },
  {
   "cell_type": "code",
   "execution_count": 38,
   "metadata": {},
   "outputs": [],
   "source": [
    "output_sequences = model.generate(input_ids=input_ids,\n",
    "                                  max_length=100,\n",
    "                                  num_return_sequences=1\n",
    "                                 )"
   ]
  },
  {
   "cell_type": "code",
   "execution_count": null,
   "metadata": {},
   "outputs": [],
   "source": []
  },
  {
   "cell_type": "code",
   "execution_count": 36,
   "metadata": {
    "scrolled": true
   },
   "outputs": [
    {
     "name": "stdout",
     "output_type": "stream",
     "text": [
      "GENERATED SEQUENCE : <usr> 김해 김해 김해 김해 김해 김해 김해 김해 김해 김해 김해 김해 김해 김해 김해 김해 김해 김해 김해 김해 김해 김해 김해 김해 김해 김해 김해 김해 김해 김해 김해 김해 김해 김해 김해 김해 김해 김해 김해 김해 김해 김해 김해 김해 김해 김해 김해 김해 김해 김해 김해 김해 김해 김해 김해 김해 김해 김해 김해 김해 김해 김해 김해 김해 김해 김해 김해 김해 김해 김해 김해 김해 김해 김해 김해 김해 김해 김해 김해 김해 김해 김해 김해 김해 김해 김해 김해 김해 김해 김해 김해 김해 김해 김해 김해 김해 김해 김해 김해\n"
     ]
    }
   ],
   "source": [
    "for generated_sequence in output_sequences:\n",
    "    generated_sequence = generated_sequence.tolist()\n",
    "    print(\"GENERATED SEQUENCE : {0}\".format(tokenizer.decode(generated_sequence, clean_up_tokenization_spaces=True)))"
   ]
  }
 ],
 "metadata": {
  "kernelspec": {
   "display_name": "Python 3",
   "language": "python",
   "name": "python3"
  },
  "language_info": {
   "codemirror_mode": {
    "name": "ipython",
    "version": 3
   },
   "file_extension": ".py",
   "mimetype": "text/x-python",
   "name": "python",
   "nbconvert_exporter": "python",
   "pygments_lexer": "ipython3",
   "version": "3.6.9"
  }
 },
 "nbformat": 4,
 "nbformat_minor": 4
}

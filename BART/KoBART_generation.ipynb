{
 "cells": [
  {
   "cell_type": "code",
   "execution_count": 4,
   "metadata": {},
   "outputs": [],
   "source": [
    "from kobart_transformers import get_kobart_for_conditional_generation, get_kobart_tokenizer"
   ]
  },
  {
   "cell_type": "code",
   "execution_count": 5,
   "metadata": {},
   "outputs": [],
   "source": [
    "model = get_kobart_for_conditional_generation()\n",
    "tokenizer = get_kobart_tokenizer()"
   ]
  },
  {
   "cell_type": "code",
   "execution_count": 8,
   "metadata": {},
   "outputs": [],
   "source": [
    "input_str = \"스마트폰 중독현상의 이유\""
   ]
  },
  {
   "cell_type": "code",
   "execution_count": 9,
   "metadata": {},
   "outputs": [],
   "source": [
    "input_ids = tokenizer.encode(input_str, \n",
    "                             add_special_tokens=False, \n",
    "                             return_tensors=\"pt\"\n",
    "                            )"
   ]
  },
  {
   "cell_type": "code",
   "execution_count": 41,
   "metadata": {},
   "outputs": [],
   "source": [
    "output_sequences = model.generate(input_ids=input_ids, do_sample= True, early_stopping=True,\n",
    "                                  min_length=10, repetition_penalty=1000e1000,\n",
    "                                  num_return_sequences=2\n",
    "                                 )"
   ]
  },
  {
   "cell_type": "code",
   "execution_count": 42,
   "metadata": {
    "scrolled": true
   },
   "outputs": [
    {
     "name": "stdout",
     "output_type": "stream",
     "text": [
      "GENERATED SEQUENCE : <usr> 이유 일본 명 등록 서울시 신청 대상 하나 스마트폰 한 연 분야 사용 적합 수 등 서울 등의 환\n",
      "GENERATED SEQUENCE : <usr> 이유 등록현상의 환 연 사용 학교 신청 서울시 농업 하나 스마트폰 상 될 서울 대상 최고 등\n"
     ]
    }
   ],
   "source": [
    "for generated_sequence in output_sequences:\n",
    "    generated_sequence = generated_sequence.tolist()\n",
    "    print(\"GENERATED SEQUENCE : {0}\".format(tokenizer.decode(generated_sequence, clean_up_tokenization_spaces=True)))"
   ]
  }
 ],
 "metadata": {
  "kernelspec": {
   "display_name": "Python 3",
   "language": "python",
   "name": "python3"
  },
  "language_info": {
   "codemirror_mode": {
    "name": "ipython",
    "version": 3
   },
   "file_extension": ".py",
   "mimetype": "text/x-python",
   "name": "python",
   "nbconvert_exporter": "python",
   "pygments_lexer": "ipython3",
   "version": "3.6.9"
  }
 },
 "nbformat": 4,
 "nbformat_minor": 4
}

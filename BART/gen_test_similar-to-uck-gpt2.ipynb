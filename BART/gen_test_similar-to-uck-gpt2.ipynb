{
 "cells": [
  {
   "cell_type": "code",
   "execution_count": 2,
   "metadata": {},
   "outputs": [
    {
     "name": "stderr",
     "output_type": "stream",
     "text": [
      "--2021-06-02 16:46:52--  https://docs.google.com/uc?export=download&id=19t6_Cn6qPM7HEq23zbeMQdeKtqGcEz73\n",
      "Resolving docs.google.com (docs.google.com)... 172.217.175.78, 2404:6800:4004:808::200e\n",
      "Connecting to docs.google.com (docs.google.com)|172.217.175.78|:443... connected.\n",
      "HTTP request sent, awaiting response... 302 Moved Temporarily\n",
      "Location: https://doc-00-04-docs.googleusercontent.com/docs/securesc/ha0ro937gcuc7l7deffksulhg5h7mbp1/81lccll3kgl2dalujv90akgpm4l93tmd/1622619975000/18111041224098424528/*/19t6_Cn6qPM7HEq23zbeMQdeKtqGcEz73?e=download [following]\n",
      "Warning: wildcards not supported in HTTP.\n",
      "--2021-06-02 16:46:54--  https://doc-00-04-docs.googleusercontent.com/docs/securesc/ha0ro937gcuc7l7deffksulhg5h7mbp1/81lccll3kgl2dalujv90akgpm4l93tmd/1622619975000/18111041224098424528/*/19t6_Cn6qPM7HEq23zbeMQdeKtqGcEz73?e=download\n",
      "Resolving doc-00-04-docs.googleusercontent.com (doc-00-04-docs.googleusercontent.com)... 172.217.174.97, 2404:6800:4004:808::2001\n",
      "Connecting to doc-00-04-docs.googleusercontent.com (doc-00-04-docs.googleusercontent.com)|172.217.174.97|:443... connected.\n",
      "HTTP request sent, awaiting response... 200 OK\n",
      "Length: 1170261 (1.1M) [application/octet-stream]\n",
      "Saving to: ‘kogpt2_news_wiki_ko_cased_818bfa919d.spiece’\n",
      "\n",
      "     0K .......... .......... .......... .......... ..........  4% 46.6M 0s\n",
      "    50K .......... .......... .......... .......... ..........  8% 1.20M 0s\n",
      "   100K .......... .......... .......... .......... .......... 13% 1.88M 0s\n",
      "   150K .......... .......... .......... .......... .......... 17% 3.01M 0s\n",
      "   200K .......... .......... .......... .......... .......... 21% 4.60M 0s\n",
      "   250K .......... .......... .......... .......... .......... 26% 5.64M 0s\n",
      "   300K .......... .......... .......... .......... .......... 30% 5.76M 0s\n",
      "   350K .......... .......... .......... .......... .......... 35% 6.26M 0s\n",
      "   400K .......... .......... .......... .......... .......... 39% 7.54M 0s\n",
      "   450K .......... .......... .......... .......... .......... 43% 9.65M 0s\n",
      "   500K .......... .......... .......... .......... .......... 48% 12.2M 0s\n",
      "   550K .......... .......... .......... .......... .......... 52% 11.9M 0s\n",
      "   600K .......... .......... .......... .......... .......... 56% 13.4M 0s\n",
      "   650K .......... .......... .......... .......... .......... 61% 16.6M 0s\n",
      "   700K .......... .......... .......... .......... .......... 65% 14.8M 0s\n",
      "   750K .......... .......... .......... .......... .......... 70% 15.6M 0s\n",
      "   800K .......... .......... .......... .......... .......... 74% 17.2M 0s\n",
      "   850K .......... .......... .......... .......... .......... 78% 15.0M 0s\n",
      "   900K .......... .......... .......... .......... .......... 83% 22.1M 0s\n",
      "   950K .......... .......... .......... .......... .......... 87% 16.3M 0s\n",
      "  1000K .......... .......... .......... .......... .......... 91% 21.7M 0s\n",
      "  1050K .......... .......... .......... .......... .......... 96% 22.8M 0s\n",
      "  1100K .......... .......... .......... .......... ..        100% 24.5M=0.2s\n",
      "\n",
      "2021-06-02 16:46:55 (6.58 MB/s) - ‘kogpt2_news_wiki_ko_cased_818bfa919d.spiece’ saved [1170261/1170261]\n",
      "\n"
     ]
    }
   ],
   "source": [
    "%%bash\n",
    "FILEID=19t6_Cn6qPM7HEq23zbeMQdeKtqGcEz73\n",
    "file=kogpt2_news_wiki_ko_cased_818bfa919d.spiece\n",
    "\n",
    "URL=\"https://drive.google.com/uc?export=download&id=$id\"\n",
    "\n",
    "wget --no-check-certificate \"https://docs.google.com/uc?export=download&id=$FILEID\" -O $file"
   ]
  },
  {
   "cell_type": "code",
   "execution_count": 3,
   "metadata": {
    "scrolled": true
   },
   "outputs": [
    {
     "name": "stdout",
     "output_type": "stream",
     "text": [
      "total 1312\r\n",
      "drwxr-xr-x  4 root root     311 Jun  2 16:46 .\r\n",
      "drwxrwxrwx 17 root root    4096 Jun  2 16:21 ..\r\n",
      "drwxr-xr-x  2 root root     200 Jun  2 16:46 .ipynb_checkpoints\r\n",
      "-rw-r--r--  1 root root    6000 Jun  2 16:34 KoBART_generation.ipynb\r\n",
      "-rw-r--r--  1 root root   52357 May 27 14:52 KoBART_modify-like-gpt.ipynb\r\n",
      "-rw-r--r--  1 root root      72 Jun  2 16:46 gen_test_similar-to-uck-gpt2.ipynb\r\n",
      "-rw-r--r--  1 root root 1170261 Jun  2 16:46 kogpt2_news_wiki_ko_cased_818bfa919d.spiece\r\n",
      "-rw-r--r--  1 root root    3976 May 17 16:54 prac.ipynb\r\n",
      "drwxr-xr-x  4 root root      88 May 26 18:21 runs\r\n",
      "-rw-r--r--  1 root root   90167 Jun  2 16:20 triplet.ipynb\r\n",
      "-rw-r--r--  1 root root      31 Jun  2 16:17 webNLG2020_train.csv\r\n"
     ]
    }
   ],
   "source": [
    "!ls -al"
   ]
  },
  {
   "cell_type": "code",
   "execution_count": null,
   "metadata": {},
   "outputs": [],
   "source": [
    "import torch\n",
    "import sentencepiece\n",
    "import transformers\n",
    "from transformers import GPT2Config, GPT2LMHeadModel"
   ]
  },
  {
   "cell_type": "code",
   "execution_count": null,
   "metadata": {},
   "outputs": [],
   "source": []
  }
 ],
 "metadata": {
  "kernelspec": {
   "display_name": "Python 3",
   "language": "python",
   "name": "python3"
  },
  "language_info": {
   "codemirror_mode": {
    "name": "ipython",
    "version": 3
   },
   "file_extension": ".py",
   "mimetype": "text/x-python",
   "name": "python",
   "nbconvert_exporter": "python",
   "pygments_lexer": "ipython3",
   "version": "3.6.9"
  }
 },
 "nbformat": 4,
 "nbformat_minor": 4
}

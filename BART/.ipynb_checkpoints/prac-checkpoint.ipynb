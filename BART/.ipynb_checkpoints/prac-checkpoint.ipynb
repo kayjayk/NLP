{
 "cells": [
  {
   "cell_type": "code",
   "execution_count": 1,
   "metadata": {},
   "outputs": [],
   "source": [
    "import tensorflow as tf\n",
    "\n",
    "gpus = tf.config.experimental.list_physical_devices('GPU')\n",
    "if gpus:\n",
    "  # 텐서플로가 첫 번째 GPU에 1GB 메모리만 할당하도록 제한\n",
    "  try:\n",
    "    tf.config.experimental.set_virtual_device_configuration(\n",
    "        gpus[0],\n",
    "        [tf.config.experimental.VirtualDeviceConfiguration(memory_limit=2500)])\n",
    "  except RuntimeError as e:\n",
    "    # 프로그램 시작시에 가상 장치가 설정되어야만 합니다\n",
    "    print(e)"
   ]
  },
  {
   "cell_type": "code",
   "execution_count": 2,
   "metadata": {},
   "outputs": [],
   "source": [
    "import glob\n",
    "import os\n",
    "import re\n",
    "import xml.etree.ElementTree as ET\n",
    "import pandas as pd\n",
    "files = glob.glob(os.getcwd() + \"/path/to/training set/folder/**/*.xml\", recursive=True)\n",
    "triple_re=re.compile('(\\d)triples')\n",
    "data_dct={}\n",
    "for file in files:\n",
    "    tree = ET.parse(file)\n",
    "    root = tree.getroot()\n",
    "    triples_num=int(triple_re.findall(file)[0])\n",
    "    for sub_root in root:\n",
    "        for ss_root in sub_root:\n",
    "            strutured_master=[]\n",
    "            unstructured=[]\n",
    "            for entry in ss_root:\n",
    "                unstructured.append(entry.text)\n",
    "                strutured=[triple.text for triple in entry]\n",
    "                strutured_master.extend(strutured)\n",
    "            unstructured=[i for i in unstructured if i.replace('\\n','').strip()!='' ]\n",
    "            strutured_master=strutured_master[-triples_num:]\n",
    "            strutured_master_str=(' && ').join(strutured_master)\n",
    "            data_dct[strutured_master_str]=unstructured\n",
    "mdata_dct={\"prefix\":[], \"input_text\":[], \"target_text\":[]}\n",
    "for st,unst in data_dct.items():\n",
    "    for i in unst:\n",
    "        mdata_dct['prefix'].append('webNLG')\n",
    "        mdata_dct['input_text'].append(st)\n",
    "        mdata_dct['target_text'].append(i)\n",
    "\n",
    "\n",
    "df=pd.DataFrame(mdata_dct)\n",
    "df.to_csv('webNLG2020_train.csv')"
   ]
  },
  {
   "cell_type": "code",
   "execution_count": 3,
   "metadata": {},
   "outputs": [
    {
     "data": {
      "text/html": [
       "<div>\n",
       "<style scoped>\n",
       "    .dataframe tbody tr th:only-of-type {\n",
       "        vertical-align: middle;\n",
       "    }\n",
       "\n",
       "    .dataframe tbody tr th {\n",
       "        vertical-align: top;\n",
       "    }\n",
       "\n",
       "    .dataframe thead th {\n",
       "        text-align: right;\n",
       "    }\n",
       "</style>\n",
       "<table border=\"1\" class=\"dataframe\">\n",
       "  <thead>\n",
       "    <tr style=\"text-align: right;\">\n",
       "      <th></th>\n",
       "      <th>prefix</th>\n",
       "      <th>input_text</th>\n",
       "      <th>target_text</th>\n",
       "    </tr>\n",
       "  </thead>\n",
       "  <tbody>\n",
       "  </tbody>\n",
       "</table>\n",
       "</div>"
      ],
      "text/plain": [
       "Empty DataFrame\n",
       "Columns: [prefix, input_text, target_text]\n",
       "Index: []"
      ]
     },
     "execution_count": 3,
     "metadata": {},
     "output_type": "execute_result"
    }
   ],
   "source": [
    "df"
   ]
  }
 ],
 "metadata": {
  "kernelspec": {
   "display_name": "Python 3",
   "language": "python",
   "name": "python3"
  },
  "language_info": {
   "codemirror_mode": {
    "name": "ipython",
    "version": 3
   },
   "file_extension": ".py",
   "mimetype": "text/x-python",
   "name": "python",
   "nbconvert_exporter": "python",
   "pygments_lexer": "ipython3",
   "version": "3.6.9"
  }
 },
 "nbformat": 4,
 "nbformat_minor": 4
}

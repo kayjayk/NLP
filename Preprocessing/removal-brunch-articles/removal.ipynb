{
 "cells": [
  {
   "cell_type": "code",
   "execution_count": 1784,
   "metadata": {},
   "outputs": [],
   "source": [
    "import pickle\n",
    "import tqdm"
   ]
  },
  {
   "cell_type": "code",
   "execution_count": 1785,
   "metadata": {},
   "outputs": [],
   "source": [
    "with open('../../Data/brunch/sentence_pickles/dict_sentences_210621.pickle', 'rb') as f:\n",
    "    tmp = pickle.load(f)"
   ]
  },
  {
   "cell_type": "markdown",
   "metadata": {},
   "source": [
    "* 210618 v1.0"
   ]
  },
  {
   "cell_type": "code",
   "execution_count": 1786,
   "metadata": {},
   "outputs": [],
   "source": [
    "stop_word_list = [\n",
    "    'insta', 'Insta', 'INSTA', '인스타',\n",
    "    'hoto by', 'PHOTO BY','그림 by', '글 by', 'ritten by', 'ixabay', 'nsplash', 'licker',\n",
    "    'http', 'www', '\\.com', '\\.net', '\\.kr',\n",
    "    '출처', '참고문헌','저작권', '전재', '참고기사', 'mage source', '게재',\n",
    "    'all rights', 'All Rights', 'All rights', 'ALL RIGHTS', \n",
    "    'opyright', '©', '©️', 'ⓒ',\n",
    "    '바로가기', '구독', '알아보기', '보러가기', '보러 가기', '이어보기', '검색하기', '다운로드',\n",
    "    '유튜브', '뉴스레터', '매거진', '전문지', '리포트', '웹사이트', '팟캐스트', '일보', '브런치', '모비인사이드',\n",
    "    '계좌번호', '구매링크',\n",
    "    '@', '#'\n",
    "]"
   ]
  },
  {
   "cell_type": "code",
   "execution_count": 1787,
   "metadata": {},
   "outputs": [
    {
     "name": "stderr",
     "output_type": "stream",
     "text": [
      "100%|██████████| 494/494 [00:00<00:00, 2981.87it/s]\n",
      "100%|██████████| 493/493 [00:00<00:00, 3332.51it/s]\n",
      "100%|██████████| 495/495 [00:00<00:00, 3378.32it/s]\n",
      "100%|██████████| 496/496 [00:00<00:00, 3131.10it/s]\n",
      "100%|██████████| 477/477 [00:00<00:00, 2591.44it/s]\n",
      "100%|██████████| 475/475 [00:00<00:00, 2862.77it/s]\n",
      "100%|██████████| 428/428 [00:00<00:00, 2794.71it/s]\n"
     ]
    }
   ],
   "source": [
    "for topic in tmp.keys():\n",
    "    for user_id in tqdm.tqdm(tmp[topic].keys()):\n",
    "        \n",
    "        idx = 0 \n",
    "        while(True):\n",
    "            value = tmp[topic][user_id][idx]\n",
    "            for stop_word in stop_word_list:\n",
    "                if stop_word in value:\n",
    "#                     print('stop')\n",
    "#                     print(idx, value)\n",
    "                    tmp[topic][user_id].pop(idx)\n",
    "#                     print(len(tmp[topic][user_id]))\n",
    "                    idx -=1\n",
    "                    break\n",
    "            idx += 1\n",
    "            if idx >= len(tmp[topic][user_id]):\n",
    "                break"
   ]
  },
  {
   "cell_type": "code",
   "execution_count": 1788,
   "metadata": {},
   "outputs": [],
   "source": [
    "with open('../../Data/brunch/sentence_pickles/dict_sentences_210621-removed-1.pickle', 'wb') as f:\n",
    "    pickle.dump(tmp, f)"
   ]
  },
  {
   "cell_type": "code",
   "execution_count": null,
   "metadata": {},
   "outputs": [],
   "source": []
  },
  {
   "cell_type": "code",
   "execution_count": null,
   "metadata": {},
   "outputs": [],
   "source": []
  },
  {
   "cell_type": "code",
   "execution_count": null,
   "metadata": {},
   "outputs": [],
   "source": []
  },
  {
   "cell_type": "code",
   "execution_count": null,
   "metadata": {},
   "outputs": [],
   "source": []
  },
  {
   "cell_type": "code",
   "execution_count": null,
   "metadata": {},
   "outputs": [],
   "source": []
  },
  {
   "cell_type": "code",
   "execution_count": 475,
   "metadata": {},
   "outputs": [],
   "source": [
    "topic_iter = iter(tmp)"
   ]
  },
  {
   "cell_type": "code",
   "execution_count": 1603,
   "metadata": {},
   "outputs": [],
   "source": [
    "topic = next(topic_iter)"
   ]
  },
  {
   "cell_type": "code",
   "execution_count": 1604,
   "metadata": {},
   "outputs": [
    {
     "data": {
      "text/plain": [
       "'조직'"
      ]
     },
     "execution_count": 1604,
     "metadata": {},
     "output_type": "execute_result"
    }
   ],
   "source": [
    "topic"
   ]
  },
  {
   "cell_type": "code",
   "execution_count": 1605,
   "metadata": {},
   "outputs": [],
   "source": [
    "id_iter = iter(tmp[topic])"
   ]
  },
  {
   "cell_type": "code",
   "execution_count": 1606,
   "metadata": {
    "scrolled": true
   },
   "outputs": [
    {
     "data": {
      "text/plain": [
       "dict_keys(['mobiinside-3085', 'spoyang-46', 'mobiinside-3019', 'thehrder1-43', '210a51cb29764cb-1', 'epoca-96', 'choiss-4', 'sweetidealme-95', 'peterhan365-64', '4seasonsanta-25', 'junyoung-117', 'healtheworldpd-4', 'woowahana-19', 'byhoj-117', 'mind-ex-3', 'thick99-90', 'groobee-180', 'drunkensky-27', 'inmunart-2146', 'byhoj-118', 'nadaumbrand-45', 'hannjoo-53', 'ggri-4', 'thick99-108', 'drunkensky-20', 'qusalsdnr123-199', 'crystal524-13', 'mind-ex-5', '63180b5a84374ba-16', 'delightlane-63', 'hrd1004-70', 'inmunart-2016', 'dltjgh0-23', 'pkm297xo-437', 'sisyphos26-10', 'spoyang-6', 'brunchjwshim-280', 'ashashash-64', 'groobee-185', 'ornard-572', 'the-lab-33', 'sisyphos26-7', 'plannery2018-143', 'thesummerpace-234', 'dbsqo10-21', 'waterfirst-77', 'giewookkoo-268', 'plannery2018-149', 'giewookkoo-275', 'wellknowngeek-41', 'cociety-34', 'paxcho-18', 'hhjo-159', 'g892026-30', '20161204-147', 'mnsul-7', 'easyahn-252', 'snsrang-175', 'cheongil-27', 'crethink-24', 'easyahn-256', 'kayeonson-11', 'cjfdnjs1949-1238', 'chagamsung-70', 'gmldmd-279', 'kkamjakga-160', 'sisydefy-27', 'flexteam-76', 'huhsil-15', 'pedaling-65', 'lemontia-353', 'yawnyroutine-68', 'pumpkin-raccoon-17', 'rlagkswn9304-2', 'liink-65', 'gajajames-108', 'osso-381', 'onemore73-74', 'coolfelix-17', 'sparkplus-199', 'vigorous21-750', 'waterkim-18', 'forpeople-60', 'mobiinside-3002', 'bizkor-14', 'uxdaysseoul-16', 'exaiting-53', 'hubertshin-31', 'kakarman-111', 'donykim-14', 'bizkor-11', 'seanchoi-hr-126', 'isakchoi-26', 'crethink-23', 'liink-63', 'choihs0228-339', '20161204-151', 'flexteam-71', 'jerad-283', '511eca255996451-2', 'agnes-writing-17', 'gofk5032-42', 'chunsama-26', 'impact-47', 'mingle-51', 'naymore-232', 'forplanb-238', 'cociety-31', 'hunwwuf-37', 'youngwungkim-145', 'hello2000-46', 'jjason68-241', 'alexkang-1522', 'meetandgreet-30', 'hifism-37', 'pkm297xo-453', 'mj859833-60', 'goldmund-108', 'sangeonhan-77', 'bookceo-113', 'thehrder1-22', 'davidcreator-64', 'soyoungeffect-26', 'haewonchoi-64', 'dan507-173', 'vomlogue-50', 'gogenius28-54', 'heyground-134', 'peterhan365-66', 'khorikim-718', 'angum4-11901', 'hsmine515-76', 'kaytee-5', 'seonminh72-34', 'ahyoungelsa-56', 'healtheworldpd-14', 'chulrhee-598', 'haewonchoi-58', 'lukekim21-17', 'jelpj-30', '95kimik-586', 'younggulee-41', 'yeseulls-59', 'jinnyjay-6', 'jsp5555-51', 'hunnothyun-83', 'jaeschoen-89', 'goodgdg-83', 'hifism-57', 'yeonjoola-20', 'rats-66', 'drunkenreader-5', 'myungworry-26', 'taekangk-98', 'stagefive-25', 'lemontia-261', 'wnqicz-6', 'si-nu-3', 'plainstory-51', 'paulda-12', 'younghakjang-114', 'soleun-63', 'cheongil-5', 'tschoe56-220', 'sujin-keen-43', 'clickb7402-78', 'alexkang-1486', 'chogaci-10', 'heyyb-21', 'eunsan3-107', 'hr-friend-631', 'ycground-14', 'waterfirst-87', 'minguklabs-9', 'delight412-348', 'camenicator-16', 'skip101-536', 'dr-rucollaa-7', 'yongjinjinipln-89', 'younghakjang-112', 'hr-friend-629', 'nooong-61', 'goldmund-136', 'gorillaaje-94', 'svillustrated-87', 'miraclenote-56', 'daumfoundation-11', 'minnation-2342', 'ww-think-52', 'musestory-71', 'podcasterkim-50', 'bksunshine-13', 'leeyeong-13', 'jasongx-14', 'iontop-57', 'vigorous21-883', 'kangminleen-2', 'thesummerpace-249', 'skychang44-246', 'woonkihong-35', 'cjfdnjs1949-1188', '1slide1message-73', 'paulda-11', 'bookceo-140', 'k70321-7', 'jasongx-18', 'bintang-16', 'choihs0228-302', 'mathew626-51', 'kkamjakga-121', 'younggulee-49', 'leoyang99-36', 'brandbooster-70', 'spreadksj-10', 'ashashash-55', 'ingeulrid-15', 'crystal524-21', 'robin-wonder-11', 'leveragelife-8', 'namtabi-10', 'heyyb-16', 'miraclenote-14', 'moviehouse-323', 'hannjoo-30', 'minnation-1903', 'underdogs-151', 'chon6187-14', 'yujaechun-215', 'maitri135-25', 'choijh0309-118', 'terrydo-201', 'nadaumbrand-16', '1slide1message-93', 'stussygo-2', 'charles104-3', 'seosinghan-27', 'minchul66-13', 'si-nu-2', 'yujaechun-216', 'forplanb-209', 'apl831-88', 'leoyang99-40', 'kimheejung89-82', 'shurat0-186', 'kwanhee-6', 'twkim831-68', 'chon6187-7', '249bee2464a643e-5', 'jobplanet-50', 'startuper-4', 'brunchjwshim-273', 'svillustrated-79', 'hryonlim-10', 'hryonlim-17', 'mintori-27', 'sujin-keen-39', '4gazi-81', 'delight412-329', 'zziggurex1-7', 'tanagement-187', 'terrydo-199', 'poisson-tr-86', 'muteyou-36', 'sadarifilm-25', 'positive-kim-45', 'mathew626-46', 'insight-kmh-44', 'azafa-263', 'craz2tive-183', 'yeonjoola-18', 'kijsee2650-46', 'adelahan-141', 'taekyungkim-298', 'sower-101', 'marco1983-7', 'kys401-38', 'steadyshim-73', 'hg1e-15', 'wnw-6', 'doctor29-32', 'sms9353-25', 'kina-2', 'back2analog-486', 'sweetidealme-84', 'growthkono-2', '21grams21-8', 'bumgeunsong-33', 'wonderhr-32', 'zziggurex1-1', 'deohamcontents-73', 'heaven-493', 'pivack13-20', 'ontherecord-60', 'thankslife-27', 'skeldk56-4', 'realhoo-22', '10togo-13', 'clickb7402-65', 'marco1983-76', 'lucybaba-24', 'slycus-9', 'choikiwoong-28', 'lulina724-32', 'yeonbertcamus-9', 'oder-313', 'namu4th-71', 'jonnaalive-253', 'suhanjang-130', 'rootimpact-124', 'skbark-8', 'muskwood-7', 'dryjshin-187', 'jakiva-95', 'lifedesign-95', 'jace1123-33', 'pivack13-25', 'davidcreator-25', 'novas99-23', 'alterego-13', 'jihoon1977-6', 'meetandgreet-26', 'uibooks-174', 'jumjan-85', 'dol74-56', 'uze-44', 'dol74-53', 'workplays-24', 'moment1052-14', 'supims-632', 'edutechleader-8', 'workplays-37', 'mnsul-4', 'cysstory-163', 'twopointthree-108', '1986-43', 'stryperhan-190', 'lifedesign-96', 'lukekim21-10', 'imbetty-20', 'jangbogo-95', 'seanchoi-hr-95', 'mind-162', '1girok-1', 'skdmlgksmf7428-14', 'kimallyheesu-6', 'kleine-104', 'aiolos-34', 'bumgeunsong-103', 'mijung225-34', 'yeonjigonji-15', 'sungyoulkim73-54', 'kangsunseng-944', 'zwang-121', 'student-6', 'secret-yh-29', 'leoconti-6', 'kimallyheesu-8', 'nostalgia9-83', 'jkm8346-302', 'romeocho80-118', 'sgt3038-72', 'ourlove-115', 'eurozine-408', 'lunarshore-249', 'jerad-214', 'hyunjinheather-35', 'heyground-142', 'kijsee2650-36', 'agile-people-9', 'ecotown-266', 'gkghfk1234-9', 'mentorgrace-18', 'iccteru-8', 'kimthun-17', 'kgt8431-26', 'mattoh-24', 'leesang3002-35', 'changsuk0814-51', 'williamwonjaech-5', 'ssmile777-154', 'eunsan3-18', 'totopapa-52', 'lunarshore-107', 'midosanghoe-10', 'midosanghoe-5', 'tschoe56-143', 'mindclinic-393', 'keunsori5-678', 'pandora-54', 'patchung-2', 'jwahn1227velo-44', 'yper-5', 'gogenius28-58', 'supims-614', 'brandyoung-164', 'wuyeong-6', 'beast112-64', 'jakiva-94', 'thesmc-23', 'hdyoon-7', 'jeeyeonkim-85', 'sw3182-79', 'sancho-27', 'mindclinic-403', 'wildenblume-103', 'mayitbe-20', 'aboutheman-54', 'tws-23', 'eunicekwon-76', 'zhoyp-131', 'sobong3-21', 'shincoach-22', 'shincoach-24', 'dearsangho-167', 'curahee-42', 'cysstory-155', 'dreamercomms-432', 'clintlim-21', 'lifeofpy-184', 'azafa-215', 'summerxmas-5', 'djlee0083-13', 'hyungkyukim-52', 'wnsaud524-15', 'sellsecret-754', 'acrobat-28', 'zwang-95', 'entercattt-13', 'yoojangjune-39', 'kbhpmp-129', 'selfdis-10', 'kimyoon21-30', 'vagabondboy-41', 'rookielim-102', 'crystalclear-175', 'businessinscdef-155', 'uglyduckmin-61', 'khorikim-571', 'jumjan-21', 'beast112-77', 'kreo-169', 'wellspark-54', 'kaywkwkr-196', '0923phye-8', 'dreammentor-28', 'dbr-33', 'brunchh48a-45', 'sodamfd87-64', 'chloe-art-10', 'mskchan-13', 'getipower-61', 'keunheo-36', 'nomadrid-32', 'snsrang-131', 'memi2733-113', 'plusclov-225', 'seojinnam-7', 'aboutheman-290', 'spacesallim-33', 'simmani2013-142', 'sweet-scent-55', 'fastcampus-25', 'secretysa-1', 'jl014526-11', 'curahee-175', 'butterroll-16', 'ubermensch-105', 'thinkit-4', 'insightraveler-75', 'bellakwak-43', 'wodilabs-84', 'plusclov-505', 'heartheater-37', 'eunicekwon-50', 'skbark-102', 'k-jlee-217', 'yongjin-6', 'memi2733-122', 'minon-86'])"
      ]
     },
     "execution_count": 1606,
     "metadata": {},
     "output_type": "execute_result"
    }
   ],
   "source": [
    "tmp[topic].keys()"
   ]
  },
  {
   "cell_type": "code",
   "execution_count": null,
   "metadata": {},
   "outputs": [],
   "source": [
    "user_id = next(id_iter)\n",
    "print(user_id)\n",
    "for sentence in tmp[topic][user_id]:\n",
    "    print(sentence)"
   ]
  }
 ],
 "metadata": {
  "kernelspec": {
   "display_name": "Python 3",
   "language": "python",
   "name": "python3"
  },
  "language_info": {
   "codemirror_mode": {
    "name": "ipython",
    "version": 3
   },
   "file_extension": ".py",
   "mimetype": "text/x-python",
   "name": "python",
   "nbconvert_exporter": "python",
   "pygments_lexer": "ipython3",
   "version": "3.6.9"
  }
 },
 "nbformat": 4,
 "nbformat_minor": 4
}
